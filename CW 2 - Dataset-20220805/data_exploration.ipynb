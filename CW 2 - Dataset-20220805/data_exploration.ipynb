{
 "cells": [
  {
   "cell_type": "code",
   "execution_count": 257,
   "id": "535778d7",
   "metadata": {},
   "outputs": [],
   "source": [
    "import pandas as pd \n",
    "import numpy as np\n",
    "import matplotlib.pyplot as plt\n",
    "import seaborn as sns\n",
    "from sklearn.preprocessing import OrdinalEncoder\n",
    "from sklearn.preprocessing import MinMaxScaler\n",
    "from sklearn.model_selection import train_test_split"
   ]
  },
  {
   "cell_type": "code",
   "execution_count": 258,
   "id": "e97db9d1",
   "metadata": {},
   "outputs": [
    {
     "data": {
      "text/html": [
       "<div>\n",
       "<style scoped>\n",
       "    .dataframe tbody tr th:only-of-type {\n",
       "        vertical-align: middle;\n",
       "    }\n",
       "\n",
       "    .dataframe tbody tr th {\n",
       "        vertical-align: top;\n",
       "    }\n",
       "\n",
       "    .dataframe thead th {\n",
       "        text-align: right;\n",
       "    }\n",
       "</style>\n",
       "<table border=\"1\" class=\"dataframe\">\n",
       "  <thead>\n",
       "    <tr style=\"text-align: right;\">\n",
       "      <th></th>\n",
       "      <th>Gender</th>\n",
       "      <th>CustomerType</th>\n",
       "      <th>Age</th>\n",
       "      <th>TypeOfTravel</th>\n",
       "      <th>Class</th>\n",
       "      <th>FlightDistance</th>\n",
       "      <th>InflightWifiService</th>\n",
       "      <th>DepartureArrivalTimeConvenient</th>\n",
       "      <th>EaseOfOnlineBooking</th>\n",
       "      <th>GateLocation</th>\n",
       "      <th>FoodAndDrink</th>\n",
       "      <th>OnlineBoarding</th>\n",
       "      <th>SeatComfort</th>\n",
       "      <th>InflightEntertainment</th>\n",
       "      <th>OnboardService</th>\n",
       "      <th>LegRoomService</th>\n",
       "      <th>BaggageHandling</th>\n",
       "      <th>CheckinService</th>\n",
       "      <th>InflightService</th>\n",
       "      <th>Cleanliness</th>\n",
       "      <th>DepartureDelayInMinutes</th>\n",
       "      <th>ArrivalDelayInMinutes</th>\n",
       "      <th>satisfaction</th>\n",
       "    </tr>\n",
       "  </thead>\n",
       "  <tbody>\n",
       "    <tr>\n",
       "      <th>0</th>\n",
       "      <td>Male</td>\n",
       "      <td>Loyal Customer</td>\n",
       "      <td>40</td>\n",
       "      <td>Business travel</td>\n",
       "      <td>Business</td>\n",
       "      <td>2969</td>\n",
       "      <td>3</td>\n",
       "      <td>3</td>\n",
       "      <td>3</td>\n",
       "      <td>3</td>\n",
       "      <td>5</td>\n",
       "      <td>5</td>\n",
       "      <td>5</td>\n",
       "      <td>5</td>\n",
       "      <td>5</td>\n",
       "      <td>5</td>\n",
       "      <td>5</td>\n",
       "      <td>5</td>\n",
       "      <td>5</td>\n",
       "      <td>4</td>\n",
       "      <td>0</td>\n",
       "      <td>5.0</td>\n",
       "      <td>satisfied</td>\n",
       "    </tr>\n",
       "    <tr>\n",
       "      <th>1</th>\n",
       "      <td>Female</td>\n",
       "      <td>Loyal Customer</td>\n",
       "      <td>13</td>\n",
       "      <td>Personal Travel</td>\n",
       "      <td>Eco</td>\n",
       "      <td>668</td>\n",
       "      <td>3</td>\n",
       "      <td>5</td>\n",
       "      <td>3</td>\n",
       "      <td>4</td>\n",
       "      <td>3</td>\n",
       "      <td>3</td>\n",
       "      <td>3</td>\n",
       "      <td>3</td>\n",
       "      <td>3</td>\n",
       "      <td>2</td>\n",
       "      <td>5</td>\n",
       "      <td>4</td>\n",
       "      <td>5</td>\n",
       "      <td>3</td>\n",
       "      <td>0</td>\n",
       "      <td>0.0</td>\n",
       "      <td>neutral or dissatisfied</td>\n",
       "    </tr>\n",
       "    <tr>\n",
       "      <th>2</th>\n",
       "      <td>Female</td>\n",
       "      <td>disloyal Customer</td>\n",
       "      <td>42</td>\n",
       "      <td>Business travel</td>\n",
       "      <td>Business</td>\n",
       "      <td>868</td>\n",
       "      <td>5</td>\n",
       "      <td>5</td>\n",
       "      <td>5</td>\n",
       "      <td>1</td>\n",
       "      <td>2</td>\n",
       "      <td>5</td>\n",
       "      <td>2</td>\n",
       "      <td>2</td>\n",
       "      <td>5</td>\n",
       "      <td>4</td>\n",
       "      <td>5</td>\n",
       "      <td>3</td>\n",
       "      <td>4</td>\n",
       "      <td>2</td>\n",
       "      <td>2</td>\n",
       "      <td>8.0</td>\n",
       "      <td>satisfied</td>\n",
       "    </tr>\n",
       "    <tr>\n",
       "      <th>3</th>\n",
       "      <td>Male</td>\n",
       "      <td>disloyal Customer</td>\n",
       "      <td>40</td>\n",
       "      <td>Business travel</td>\n",
       "      <td>Business</td>\n",
       "      <td>309</td>\n",
       "      <td>3</td>\n",
       "      <td>3</td>\n",
       "      <td>3</td>\n",
       "      <td>3</td>\n",
       "      <td>2</td>\n",
       "      <td>3</td>\n",
       "      <td>2</td>\n",
       "      <td>2</td>\n",
       "      <td>3</td>\n",
       "      <td>2</td>\n",
       "      <td>5</td>\n",
       "      <td>4</td>\n",
       "      <td>4</td>\n",
       "      <td>2</td>\n",
       "      <td>0</td>\n",
       "      <td>0.0</td>\n",
       "      <td>neutral or dissatisfied</td>\n",
       "    </tr>\n",
       "    <tr>\n",
       "      <th>4</th>\n",
       "      <td>Female</td>\n",
       "      <td>disloyal Customer</td>\n",
       "      <td>23</td>\n",
       "      <td>Business travel</td>\n",
       "      <td>Eco Plus</td>\n",
       "      <td>325</td>\n",
       "      <td>3</td>\n",
       "      <td>3</td>\n",
       "      <td>3</td>\n",
       "      <td>2</td>\n",
       "      <td>4</td>\n",
       "      <td>3</td>\n",
       "      <td>4</td>\n",
       "      <td>4</td>\n",
       "      <td>1</td>\n",
       "      <td>4</td>\n",
       "      <td>1</td>\n",
       "      <td>4</td>\n",
       "      <td>5</td>\n",
       "      <td>4</td>\n",
       "      <td>9</td>\n",
       "      <td>6.0</td>\n",
       "      <td>neutral or dissatisfied</td>\n",
       "    </tr>\n",
       "  </tbody>\n",
       "</table>\n",
       "</div>"
      ],
      "text/plain": [
       "   Gender       CustomerType  Age     TypeOfTravel     Class  FlightDistance  \\\n",
       "0    Male     Loyal Customer   40  Business travel  Business            2969   \n",
       "1  Female     Loyal Customer   13  Personal Travel       Eco             668   \n",
       "2  Female  disloyal Customer   42  Business travel  Business             868   \n",
       "3    Male  disloyal Customer   40  Business travel  Business             309   \n",
       "4  Female  disloyal Customer   23  Business travel  Eco Plus             325   \n",
       "\n",
       "   InflightWifiService  DepartureArrivalTimeConvenient  EaseOfOnlineBooking  \\\n",
       "0                    3                               3                    3   \n",
       "1                    3                               5                    3   \n",
       "2                    5                               5                    5   \n",
       "3                    3                               3                    3   \n",
       "4                    3                               3                    3   \n",
       "\n",
       "   GateLocation  FoodAndDrink  OnlineBoarding  SeatComfort  \\\n",
       "0             3             5               5            5   \n",
       "1             4             3               3            3   \n",
       "2             1             2               5            2   \n",
       "3             3             2               3            2   \n",
       "4             2             4               3            4   \n",
       "\n",
       "   InflightEntertainment  OnboardService  LegRoomService  BaggageHandling  \\\n",
       "0                      5               5               5                5   \n",
       "1                      3               3               2                5   \n",
       "2                      2               5               4                5   \n",
       "3                      2               3               2                5   \n",
       "4                      4               1               4                1   \n",
       "\n",
       "   CheckinService  InflightService  Cleanliness  DepartureDelayInMinutes  \\\n",
       "0               5                5            4                        0   \n",
       "1               4                5            3                        0   \n",
       "2               3                4            2                        2   \n",
       "3               4                4            2                        0   \n",
       "4               4                5            4                        9   \n",
       "\n",
       "   ArrivalDelayInMinutes             satisfaction  \n",
       "0                    5.0                satisfied  \n",
       "1                    0.0  neutral or dissatisfied  \n",
       "2                    8.0                satisfied  \n",
       "3                    0.0  neutral or dissatisfied  \n",
       "4                    6.0  neutral or dissatisfied  "
      ]
     },
     "execution_count": 258,
     "metadata": {},
     "output_type": "execute_result"
    }
   ],
   "source": [
    "pd.set_option('display.MAX_COLUMNS', None)\n",
    "data = pd.read_csv('CSI_6_ARI_CW_2_26.csv')\n",
    "data.head()"
   ]
  },
  {
   "cell_type": "code",
   "execution_count": 259,
   "id": "a1fd31a7",
   "metadata": {},
   "outputs": [
    {
     "data": {
      "text/plain": [
       "Gender                             object\n",
       "CustomerType                       object\n",
       "Age                                 int64\n",
       "TypeOfTravel                       object\n",
       "Class                              object\n",
       "FlightDistance                      int64\n",
       "InflightWifiService                 int64\n",
       "DepartureArrivalTimeConvenient      int64\n",
       "EaseOfOnlineBooking                 int64\n",
       "GateLocation                        int64\n",
       "FoodAndDrink                        int64\n",
       "OnlineBoarding                      int64\n",
       "SeatComfort                         int64\n",
       "InflightEntertainment               int64\n",
       "OnboardService                      int64\n",
       "LegRoomService                      int64\n",
       "BaggageHandling                     int64\n",
       "CheckinService                      int64\n",
       "InflightService                     int64\n",
       "Cleanliness                         int64\n",
       "DepartureDelayInMinutes             int64\n",
       "ArrivalDelayInMinutes             float64\n",
       "satisfaction                       object\n",
       "dtype: object"
      ]
     },
     "execution_count": 259,
     "metadata": {},
     "output_type": "execute_result"
    }
   ],
   "source": [
    "data.dtypes"
   ]
  },
  {
   "cell_type": "code",
   "execution_count": 260,
   "id": "5e658cf4",
   "metadata": {},
   "outputs": [
    {
     "data": {
      "text/plain": [
       "Index(['Gender', 'CustomerType', 'Age', 'TypeOfTravel', 'Class',\n",
       "       'FlightDistance', 'InflightWifiService',\n",
       "       'DepartureArrivalTimeConvenient', 'EaseOfOnlineBooking', 'GateLocation',\n",
       "       'FoodAndDrink', 'OnlineBoarding', 'SeatComfort',\n",
       "       'InflightEntertainment', 'OnboardService', 'LegRoomService',\n",
       "       'BaggageHandling', 'CheckinService', 'InflightService', 'Cleanliness',\n",
       "       'DepartureDelayInMinutes', 'satisfaction'],\n",
       "      dtype='object')"
      ]
     },
     "execution_count": 260,
     "metadata": {},
     "output_type": "execute_result"
    }
   ],
   "source": [
    "data = data.drop(columns=['ArrivalDelayInMinutes'], axis=1)\n",
    "cat_cols = [col for col in data.columns if data[col].dtype == 'object']\n",
    "mis_cols = [col for col in data.columns if data[col].isnull().any()]\n",
    "inti_cols = [col for col in data.columns if data[col].dtype in ['int64', 'float64']]\n",
    "data.columns"
   ]
  },
  {
   "cell_type": "code",
   "execution_count": 261,
   "id": "1b969c93",
   "metadata": {},
   "outputs": [],
   "source": [
    "data_dup = cat_cols.copy()"
   ]
  },
  {
   "cell_type": "code",
   "execution_count": 262,
   "id": "c2664dab",
   "metadata": {},
   "outputs": [
    {
     "data": {
      "text/plain": [
       "['Satisfied Male', 'Satisfied Female', 'Unsatisfied Male', 'Unatisfied Female']"
      ]
     },
     "execution_count": 262,
     "metadata": {},
     "output_type": "execute_result"
    }
   ],
   "source": [
    "gender"
   ]
  },
  {
   "cell_type": "code",
   "execution_count": 263,
   "id": "b9beb368",
   "metadata": {},
   "outputs": [],
   "source": [
    "satis_female = len(data[(data['Gender'] == 'Female') & (data['satisfaction'] == 'satisfied')])\n",
    "unsatis_female = len(data[(data['Gender'] == 'Female') & (data['satisfaction'] == 'neutral or dissatisfied')])\n",
    "satis_male = len(data[(data['Gender'] == 'Male') & (data['satisfaction'] == 'satisfied')])\n",
    "unsatis_male = len(data[(data['Gender'] == 'Male') & (data['satisfaction'] == 'neutral or dissatisfied')])"
   ]
  },
  {
   "cell_type": "code",
   "execution_count": 264,
   "id": "7bc0af48",
   "metadata": {},
   "outputs": [],
   "source": [
    "gender = ['Satisfied Male', 'Satisfied Female', 'Unsatisfied Male', 'Unatisfied Female']\n",
    "gender_count = [satis_male, satis_female, unsatis_male, unsatis_female]"
   ]
  },
  {
   "cell_type": "code",
   "execution_count": null,
   "id": "5193e708",
   "metadata": {},
   "outputs": [],
   "source": []
  },
  {
   "cell_type": "code",
   "execution_count": 265,
   "id": "e0e174ad",
   "metadata": {},
   "outputs": [
    {
     "data": {
      "image/png": "[encoded data removed]",
      "text/plain": [
       "<Figure size 432x288 with 1 Axes>"
      ]
     },
     "metadata": {
      "needs_background": "light"
     },
     "output_type": "display_data"
    }
   ],
   "source": [
    "fig = plt.figure()\n",
    "ax = fig.add_axes([0,0,1,1])\n",
    "ax.bar(gender,gender_count)\n",
    "plt.show()"
   ]
  },
  {
   "cell_type": "code",
   "execution_count": 266,
   "id": "33fa1da5",
   "metadata": {},
   "outputs": [],
   "source": [
    "encoder = OrdinalEncoder()\n",
    "data[cat_cols] = encoder.fit_transform(data[cat_cols])"
   ]
  },
  {
   "cell_type": "code",
   "execution_count": 267,
   "id": "afc19c4b",
   "metadata": {},
   "outputs": [],
   "source": [
    "scaler = MinMaxScaler()\n",
    "data[int_col] = scaler.fit_transform(data[int_col])"
   ]
  },
  {
   "cell_type": "code",
   "execution_count": 268,
   "id": "cfc1fb14",
   "metadata": {},
   "outputs": [
    {
     "data": {
      "text/html": [
       "<div>\n",
       "<style scoped>\n",
       "    .dataframe tbody tr th:only-of-type {\n",
       "        vertical-align: middle;\n",
       "    }\n",
       "\n",
       "    .dataframe tbody tr th {\n",
       "        vertical-align: top;\n",
       "    }\n",
       "\n",
       "    .dataframe thead th {\n",
       "        text-align: right;\n",
       "    }\n",
       "</style>\n",
       "<table border=\"1\" class=\"dataframe\">\n",
       "  <thead>\n",
       "    <tr style=\"text-align: right;\">\n",
       "      <th></th>\n",
       "      <th>Gender</th>\n",
       "      <th>CustomerType</th>\n",
       "      <th>Age</th>\n",
       "      <th>TypeOfTravel</th>\n",
       "      <th>Class</th>\n",
       "      <th>FlightDistance</th>\n",
       "      <th>InflightWifiService</th>\n",
       "      <th>DepartureArrivalTimeConvenient</th>\n",
       "      <th>EaseOfOnlineBooking</th>\n",
       "      <th>GateLocation</th>\n",
       "      <th>FoodAndDrink</th>\n",
       "      <th>OnlineBoarding</th>\n",
       "      <th>SeatComfort</th>\n",
       "      <th>InflightEntertainment</th>\n",
       "      <th>OnboardService</th>\n",
       "      <th>LegRoomService</th>\n",
       "      <th>BaggageHandling</th>\n",
       "      <th>CheckinService</th>\n",
       "      <th>InflightService</th>\n",
       "      <th>Cleanliness</th>\n",
       "      <th>DepartureDelayInMinutes</th>\n",
       "      <th>satisfaction</th>\n",
       "    </tr>\n",
       "  </thead>\n",
       "  <tbody>\n",
       "    <tr>\n",
       "      <th>0</th>\n",
       "      <td>1.0</td>\n",
       "      <td>0.0</td>\n",
       "      <td>0.423077</td>\n",
       "      <td>0.0</td>\n",
       "      <td>0.0</td>\n",
       "      <td>0.657124</td>\n",
       "      <td>0.6</td>\n",
       "      <td>0.6</td>\n",
       "      <td>0.6</td>\n",
       "      <td>0.50</td>\n",
       "      <td>1.0</td>\n",
       "      <td>1.0</td>\n",
       "      <td>1.00</td>\n",
       "      <td>1.0</td>\n",
       "      <td>1.0</td>\n",
       "      <td>1.0</td>\n",
       "      <td>1.0</td>\n",
       "      <td>1.00</td>\n",
       "      <td>1.0</td>\n",
       "      <td>0.8</td>\n",
       "      <td>0.000000</td>\n",
       "      <td>1.0</td>\n",
       "    </tr>\n",
       "    <tr>\n",
       "      <th>1</th>\n",
       "      <td>0.0</td>\n",
       "      <td>0.0</td>\n",
       "      <td>0.076923</td>\n",
       "      <td>1.0</td>\n",
       "      <td>1.0</td>\n",
       "      <td>0.142474</td>\n",
       "      <td>0.6</td>\n",
       "      <td>1.0</td>\n",
       "      <td>0.6</td>\n",
       "      <td>0.75</td>\n",
       "      <td>0.6</td>\n",
       "      <td>0.6</td>\n",
       "      <td>0.50</td>\n",
       "      <td>0.6</td>\n",
       "      <td>0.6</td>\n",
       "      <td>0.4</td>\n",
       "      <td>1.0</td>\n",
       "      <td>0.75</td>\n",
       "      <td>1.0</td>\n",
       "      <td>0.6</td>\n",
       "      <td>0.000000</td>\n",
       "      <td>0.0</td>\n",
       "    </tr>\n",
       "    <tr>\n",
       "      <th>2</th>\n",
       "      <td>0.0</td>\n",
       "      <td>1.0</td>\n",
       "      <td>0.448718</td>\n",
       "      <td>0.0</td>\n",
       "      <td>0.0</td>\n",
       "      <td>0.187206</td>\n",
       "      <td>1.0</td>\n",
       "      <td>1.0</td>\n",
       "      <td>1.0</td>\n",
       "      <td>0.00</td>\n",
       "      <td>0.4</td>\n",
       "      <td>1.0</td>\n",
       "      <td>0.25</td>\n",
       "      <td>0.4</td>\n",
       "      <td>1.0</td>\n",
       "      <td>0.8</td>\n",
       "      <td>1.0</td>\n",
       "      <td>0.50</td>\n",
       "      <td>0.8</td>\n",
       "      <td>0.4</td>\n",
       "      <td>0.002454</td>\n",
       "      <td>1.0</td>\n",
       "    </tr>\n",
       "    <tr>\n",
       "      <th>3</th>\n",
       "      <td>1.0</td>\n",
       "      <td>1.0</td>\n",
       "      <td>0.423077</td>\n",
       "      <td>0.0</td>\n",
       "      <td>0.0</td>\n",
       "      <td>0.062178</td>\n",
       "      <td>0.6</td>\n",
       "      <td>0.6</td>\n",
       "      <td>0.6</td>\n",
       "      <td>0.50</td>\n",
       "      <td>0.4</td>\n",
       "      <td>0.6</td>\n",
       "      <td>0.25</td>\n",
       "      <td>0.4</td>\n",
       "      <td>0.6</td>\n",
       "      <td>0.4</td>\n",
       "      <td>1.0</td>\n",
       "      <td>0.75</td>\n",
       "      <td>0.8</td>\n",
       "      <td>0.4</td>\n",
       "      <td>0.000000</td>\n",
       "      <td>0.0</td>\n",
       "    </tr>\n",
       "    <tr>\n",
       "      <th>4</th>\n",
       "      <td>0.0</td>\n",
       "      <td>1.0</td>\n",
       "      <td>0.205128</td>\n",
       "      <td>0.0</td>\n",
       "      <td>2.0</td>\n",
       "      <td>0.065757</td>\n",
       "      <td>0.6</td>\n",
       "      <td>0.6</td>\n",
       "      <td>0.6</td>\n",
       "      <td>0.25</td>\n",
       "      <td>0.8</td>\n",
       "      <td>0.6</td>\n",
       "      <td>0.75</td>\n",
       "      <td>0.8</td>\n",
       "      <td>0.2</td>\n",
       "      <td>0.8</td>\n",
       "      <td>0.0</td>\n",
       "      <td>0.75</td>\n",
       "      <td>1.0</td>\n",
       "      <td>0.8</td>\n",
       "      <td>0.011043</td>\n",
       "      <td>0.0</td>\n",
       "    </tr>\n",
       "  </tbody>\n",
       "</table>\n",
       "</div>"
      ],
      "text/plain": [
       "   Gender  CustomerType       Age  TypeOfTravel  Class  FlightDistance  \\\n",
       "0     1.0           0.0  0.423077           0.0    0.0        0.657124   \n",
       "1     0.0           0.0  0.076923           1.0    1.0        0.142474   \n",
       "2     0.0           1.0  0.448718           0.0    0.0        0.187206   \n",
       "3     1.0           1.0  0.423077           0.0    0.0        0.062178   \n",
       "4     0.0           1.0  0.205128           0.0    2.0        0.065757   \n",
       "\n",
       "   InflightWifiService  DepartureArrivalTimeConvenient  EaseOfOnlineBooking  \\\n",
       "0                  0.6                             0.6                  0.6   \n",
       "1                  0.6                             1.0                  0.6   \n",
       "2                  1.0                             1.0                  1.0   \n",
       "3                  0.6                             0.6                  0.6   \n",
       "4                  0.6                             0.6                  0.6   \n",
       "\n",
       "   GateLocation  FoodAndDrink  OnlineBoarding  SeatComfort  \\\n",
       "0          0.50           1.0             1.0         1.00   \n",
       "1          0.75           0.6             0.6         0.50   \n",
       "2          0.00           0.4             1.0         0.25   \n",
       "3          0.50           0.4             0.6         0.25   \n",
       "4          0.25           0.8             0.6         0.75   \n",
       "\n",
       "   InflightEntertainment  OnboardService  LegRoomService  BaggageHandling  \\\n",
       "0                    1.0             1.0             1.0              1.0   \n",
       "1                    0.6             0.6             0.4              1.0   \n",
       "2                    0.4             1.0             0.8              1.0   \n",
       "3                    0.4             0.6             0.4              1.0   \n",
       "4                    0.8             0.2             0.8              0.0   \n",
       "\n",
       "   CheckinService  InflightService  Cleanliness  DepartureDelayInMinutes  \\\n",
       "0            1.00              1.0          0.8                 0.000000   \n",
       "1            0.75              1.0          0.6                 0.000000   \n",
       "2            0.50              0.8          0.4                 0.002454   \n",
       "3            0.75              0.8          0.4                 0.000000   \n",
       "4            0.75              1.0          0.8                 0.011043   \n",
       "\n",
       "   satisfaction  \n",
       "0           1.0  \n",
       "1           0.0  \n",
       "2           1.0  \n",
       "3           0.0  \n",
       "4           0.0  "
      ]
     },
     "execution_count": 268,
     "metadata": {},
     "output_type": "execute_result"
    }
   ],
   "source": [
    "data.head()"
   ]
  },
  {
   "cell_type": "code",
   "execution_count": 269,
   "id": "7c1fea21",
   "metadata": {},
   "outputs": [],
   "source": [
    "y = data.iloc[:, -1].values\n",
    "X = data.iloc[:, 0:-1].values"
   ]
  },
  {
   "cell_type": "code",
   "execution_count": 270,
   "id": "515b1d82",
   "metadata": {},
   "outputs": [],
   "source": [
    "X_train, X_valid, y_train, y_valid = train_test_split(X, y, train_size=0.8, random_state=1)"
   ]
  },
  {
   "cell_type": "code",
   "execution_count": 271,
   "id": "a1322634",
   "metadata": {},
   "outputs": [],
   "source": [
    "from tensorflow import keras\n",
    "from tensorflow.keras import layers\n",
    "model = keras.models.Sequential()\n",
    "model.add(layers.Dense(12, input_shape=(21,), activation='relu'))\n",
    "model.add(layers.Dense(8, activation='relu'))\n",
    "model.add(layers.Dense(1, activation='sigmoid'))"
   ]
  },
  {
   "cell_type": "code",
   "execution_count": 272,
   "id": "8527e7ec",
   "metadata": {},
   "outputs": [],
   "source": [
    "model.compile(\n",
    "    optimizer='adam',\n",
    "    loss = 'binary_crossentropy',\n",
    "    metrics = ['accuracy']\n",
    ")"
   ]
  },
  {
   "cell_type": "code",
   "execution_count": 273,
   "id": "4543326b",
   "metadata": {},
   "outputs": [],
   "source": [
    "from tensorflow.keras.callbacks import EarlyStopping\n",
    "callback = EarlyStopping(monitor='loss', patience=10, min_delta=0)"
   ]
  },
  {
   "cell_type": "code",
   "execution_count": 274,
   "id": "41e1d06b",
   "metadata": {
    "scrolled": true
   },
   "outputs": [
    {
     "name": "stdout",
     "output_type": "stream",
     "text": [
      "Epoch 1/200\n",
      "250/250 [==============================] - 0s 1ms/step - loss: 0.5662 - accuracy: 0.7349\n",
      "Epoch 2/200\n",
      "250/250 [==============================] - 1s 3ms/step - loss: 0.3961 - accuracy: 0.8328: 0s - loss: 0.4006 - accuracy: \n",
      "Epoch 3/200\n",
      "250/250 [==============================] - 0s 2ms/step - loss: 0.3569 - accuracy: 0.8570\n",
      "Epoch 4/200\n",
      "250/250 [==============================] - 0s 1ms/step - loss: 0.3388 - accuracy: 0.8641\n",
      "Epoch 5/200\n",
      "250/250 [==============================] - 0s 1ms/step - loss: 0.3158 - accuracy: 0.8754\n",
      "Epoch 6/200\n",
      "250/250 [==============================] - 0s 1ms/step - loss: 0.2905 - accuracy: 0.8826\n",
      "Epoch 7/200\n",
      "250/250 [==============================] - 0s 1ms/step - loss: 0.2703 - accuracy: 0.8905\n",
      "Epoch 8/200\n",
      "250/250 [==============================] - 0s 1ms/step - loss: 0.2518 - accuracy: 0.8994\n",
      "Epoch 9/200\n",
      "250/250 [==============================] - 0s 1ms/step - loss: 0.2379 - accuracy: 0.9045\n",
      "Epoch 10/200\n",
      "250/250 [==============================] - 0s 1ms/step - loss: 0.2259 - accuracy: 0.9101\n",
      "Epoch 11/200\n",
      "250/250 [==============================] - 0s 1ms/step - loss: 0.2156 - accuracy: 0.9137\n",
      "Epoch 12/200\n",
      "250/250 [==============================] - 0s 1ms/step - loss: 0.2084 - accuracy: 0.9169\n",
      "Epoch 13/200\n",
      "250/250 [==============================] - 0s 1ms/step - loss: 0.2010 - accuracy: 0.9194\n",
      "Epoch 14/200\n",
      "250/250 [==============================] - 0s 1ms/step - loss: 0.1982 - accuracy: 0.9218\n",
      "Epoch 15/200\n",
      "250/250 [==============================] - 0s 1ms/step - loss: 0.1920 - accuracy: 0.9229\n",
      "Epoch 16/200\n",
      "250/250 [==============================] - 0s 1ms/step - loss: 0.1883 - accuracy: 0.9250\n",
      "Epoch 17/200\n",
      "250/250 [==============================] - 0s 1ms/step - loss: 0.1837 - accuracy: 0.9271\n",
      "Epoch 18/200\n",
      "250/250 [==============================] - 0s 1ms/step - loss: 0.1815 - accuracy: 0.9281\n",
      "Epoch 19/200\n",
      "250/250 [==============================] - 0s 1ms/step - loss: 0.1785 - accuracy: 0.9299\n",
      "Epoch 20/200\n",
      "250/250 [==============================] - 0s 1ms/step - loss: 0.1765 - accuracy: 0.9300\n",
      "Epoch 21/200\n",
      "250/250 [==============================] - 0s 1ms/step - loss: 0.1729 - accuracy: 0.9331\n",
      "Epoch 22/200\n",
      "250/250 [==============================] - 0s 1ms/step - loss: 0.1698 - accuracy: 0.9333\n",
      "Epoch 23/200\n",
      "250/250 [==============================] - 0s 1ms/step - loss: 0.1680 - accuracy: 0.9350\n",
      "Epoch 24/200\n",
      "250/250 [==============================] - 0s 1ms/step - loss: 0.1680 - accuracy: 0.9337\n",
      "Epoch 25/200\n",
      "250/250 [==============================] - 0s 1ms/step - loss: 0.1652 - accuracy: 0.9361\n",
      "Epoch 26/200\n",
      "250/250 [==============================] - 0s 1ms/step - loss: 0.1633 - accuracy: 0.9367\n",
      "Epoch 27/200\n",
      "250/250 [==============================] - 0s 1ms/step - loss: 0.1619 - accuracy: 0.9367\n",
      "Epoch 28/200\n",
      "250/250 [==============================] - 0s 1ms/step - loss: 0.1607 - accuracy: 0.9361\n",
      "Epoch 29/200\n",
      "250/250 [==============================] - 0s 1ms/step - loss: 0.1594 - accuracy: 0.9379\n",
      "Epoch 30/200\n",
      "250/250 [==============================] - 0s 1ms/step - loss: 0.1597 - accuracy: 0.9375\n",
      "Epoch 31/200\n",
      "250/250 [==============================] - 0s 1ms/step - loss: 0.1589 - accuracy: 0.9381\n",
      "Epoch 32/200\n",
      "250/250 [==============================] - 0s 1ms/step - loss: 0.1565 - accuracy: 0.9392\n",
      "Epoch 33/200\n",
      "250/250 [==============================] - 0s 1ms/step - loss: 0.1559 - accuracy: 0.9399\n",
      "Epoch 34/200\n",
      "250/250 [==============================] - 0s 1ms/step - loss: 0.1556 - accuracy: 0.9404\n",
      "Epoch 35/200\n",
      "250/250 [==============================] - 0s 1ms/step - loss: 0.1532 - accuracy: 0.9402\n",
      "Epoch 36/200\n",
      "250/250 [==============================] - 0s 1ms/step - loss: 0.1535 - accuracy: 0.9389\n",
      "Epoch 37/200\n",
      "250/250 [==============================] - 0s 2ms/step - loss: 0.1517 - accuracy: 0.9423\n",
      "Epoch 38/200\n",
      "250/250 [==============================] - 0s 1ms/step - loss: 0.1511 - accuracy: 0.9425\n",
      "Epoch 39/200\n",
      "250/250 [==============================] - 0s 1ms/step - loss: 0.1500 - accuracy: 0.9416\n",
      "Epoch 40/200\n",
      "250/250 [==============================] - 0s 1ms/step - loss: 0.1493 - accuracy: 0.9436\n",
      "Epoch 41/200\n",
      "250/250 [==============================] - 0s 1ms/step - loss: 0.1487 - accuracy: 0.9429\n",
      "Epoch 42/200\n",
      "250/250 [==============================] - 0s 1ms/step - loss: 0.1471 - accuracy: 0.9429\n",
      "Epoch 43/200\n",
      "250/250 [==============================] - 0s 1ms/step - loss: 0.1477 - accuracy: 0.9398\n",
      "Epoch 44/200\n",
      "250/250 [==============================] - 0s 1ms/step - loss: 0.1488 - accuracy: 0.9433\n",
      "Epoch 45/200\n",
      "250/250 [==============================] - 0s 1ms/step - loss: 0.1467 - accuracy: 0.9417\n",
      "Epoch 46/200\n",
      "250/250 [==============================] - 0s 1ms/step - loss: 0.1464 - accuracy: 0.9430\n",
      "Epoch 47/200\n",
      "250/250 [==============================] - 0s 1ms/step - loss: 0.1450 - accuracy: 0.9435\n",
      "Epoch 48/200\n",
      "250/250 [==============================] - 0s 1ms/step - loss: 0.1450 - accuracy: 0.9450\n",
      "Epoch 49/200\n",
      "250/250 [==============================] - 0s 1ms/step - loss: 0.1445 - accuracy: 0.9427\n",
      "Epoch 50/200\n",
      "250/250 [==============================] - 0s 1ms/step - loss: 0.1428 - accuracy: 0.9446\n",
      "Epoch 51/200\n",
      "250/250 [==============================] - 0s 1ms/step - loss: 0.1427 - accuracy: 0.9457\n",
      "Epoch 52/200\n",
      "250/250 [==============================] - 0s 1ms/step - loss: 0.1421 - accuracy: 0.9446\n",
      "Epoch 53/200\n",
      "250/250 [==============================] - 0s 875us/step - loss: 0.1423 - accuracy: 0.9438\n",
      "Epoch 54/200\n",
      "250/250 [==============================] - 0s 1ms/step - loss: 0.1417 - accuracy: 0.9448\n",
      "Epoch 55/200\n",
      "250/250 [==============================] - 0s 1ms/step - loss: 0.1418 - accuracy: 0.9454\n",
      "Epoch 56/200\n",
      "250/250 [==============================] - 0s 1ms/step - loss: 0.1408 - accuracy: 0.9444\n",
      "Epoch 57/200\n",
      "250/250 [==============================] - 0s 1ms/step - loss: 0.1414 - accuracy: 0.9448\n",
      "Epoch 58/200\n",
      "250/250 [==============================] - 0s 2ms/step - loss: 0.1426 - accuracy: 0.9450\n",
      "Epoch 59/200\n",
      "250/250 [==============================] - 0s 1ms/step - loss: 0.1401 - accuracy: 0.9459\n",
      "Epoch 60/200\n",
      "250/250 [==============================] - 0s 1ms/step - loss: 0.1387 - accuracy: 0.9439\n",
      "Epoch 61/200\n",
      "250/250 [==============================] - 0s 1ms/step - loss: 0.1396 - accuracy: 0.9450\n",
      "Epoch 62/200\n",
      "250/250 [==============================] - 0s 1ms/step - loss: 0.1381 - accuracy: 0.9471\n",
      "Epoch 63/200\n",
      "250/250 [==============================] - 0s 1ms/step - loss: 0.1375 - accuracy: 0.9460\n",
      "Epoch 64/200\n",
      "250/250 [==============================] - 0s 1ms/step - loss: 0.1392 - accuracy: 0.9457\n",
      "Epoch 65/200\n",
      "250/250 [==============================] - 0s 1ms/step - loss: 0.1376 - accuracy: 0.9469\n",
      "Epoch 66/200\n",
      "250/250 [==============================] - 0s 1ms/step - loss: 0.1368 - accuracy: 0.9464\n",
      "Epoch 67/200\n",
      "250/250 [==============================] - 0s 1ms/step - loss: 0.1380 - accuracy: 0.9459\n",
      "Epoch 68/200\n",
      "250/250 [==============================] - 0s 1ms/step - loss: 0.1359 - accuracy: 0.9482\n",
      "Epoch 69/200\n",
      "250/250 [==============================] - 0s 1ms/step - loss: 0.1361 - accuracy: 0.9461\n",
      "Epoch 70/200\n",
      "250/250 [==============================] - 0s 1ms/step - loss: 0.1382 - accuracy: 0.9438\n",
      "Epoch 71/200\n",
      "250/250 [==============================] - 0s 1ms/step - loss: 0.1358 - accuracy: 0.9455\n",
      "Epoch 72/200\n",
      "250/250 [==============================] - 0s 1ms/step - loss: 0.1352 - accuracy: 0.9474\n",
      "Epoch 73/200\n",
      "250/250 [==============================] - 0s 1ms/step - loss: 0.1360 - accuracy: 0.9470\n",
      "Epoch 74/200\n",
      "250/250 [==============================] - 0s 1ms/step - loss: 0.1353 - accuracy: 0.9475\n",
      "Epoch 75/200\n",
      "250/250 [==============================] - 0s 1ms/step - loss: 0.1350 - accuracy: 0.9459\n",
      "Epoch 76/200\n",
      "250/250 [==============================] - 0s 1ms/step - loss: 0.1348 - accuracy: 0.9463\n",
      "Epoch 77/200\n",
      "250/250 [==============================] - 0s 1ms/step - loss: 0.1359 - accuracy: 0.9438\n",
      "Epoch 78/200\n",
      "250/250 [==============================] - 0s 1ms/step - loss: 0.1346 - accuracy: 0.9463\n",
      "Epoch 79/200\n",
      "250/250 [==============================] - 0s 1ms/step - loss: 0.1349 - accuracy: 0.9481\n",
      "Epoch 80/200\n",
      "250/250 [==============================] - 0s 2ms/step - loss: 0.1342 - accuracy: 0.9473\n",
      "Epoch 81/200\n"
     ]
    },
    {
     "name": "stdout",
     "output_type": "stream",
     "text": [
      "250/250 [==============================] - 0s 1ms/step - loss: 0.1336 - accuracy: 0.9476\n",
      "Epoch 82/200\n",
      "250/250 [==============================] - 0s 1ms/step - loss: 0.1344 - accuracy: 0.9466\n",
      "Epoch 83/200\n",
      "250/250 [==============================] - 0s 1ms/step - loss: 0.1330 - accuracy: 0.9470\n",
      "Epoch 84/200\n",
      "250/250 [==============================] - 0s 1ms/step - loss: 0.1319 - accuracy: 0.9474\n",
      "Epoch 85/200\n",
      "250/250 [==============================] - 0s 1ms/step - loss: 0.1353 - accuracy: 0.9466\n",
      "Epoch 86/200\n",
      "250/250 [==============================] - 0s 1ms/step - loss: 0.1324 - accuracy: 0.9474\n",
      "Epoch 87/200\n",
      "250/250 [==============================] - 0s 1ms/step - loss: 0.1312 - accuracy: 0.9479\n",
      "Epoch 88/200\n",
      "250/250 [==============================] - 0s 1ms/step - loss: 0.1330 - accuracy: 0.9452\n",
      "Epoch 89/200\n",
      "250/250 [==============================] - 0s 1ms/step - loss: 0.1307 - accuracy: 0.9484\n",
      "Epoch 90/200\n",
      "250/250 [==============================] - 0s 1ms/step - loss: 0.1316 - accuracy: 0.9476\n",
      "Epoch 91/200\n",
      "250/250 [==============================] - 0s 1ms/step - loss: 0.1324 - accuracy: 0.9461\n",
      "Epoch 92/200\n",
      "250/250 [==============================] - 0s 1ms/step - loss: 0.1319 - accuracy: 0.9486\n",
      "Epoch 93/200\n",
      "250/250 [==============================] - 0s 1ms/step - loss: 0.1314 - accuracy: 0.9465\n",
      "Epoch 94/200\n",
      "250/250 [==============================] - 0s 1ms/step - loss: 0.1309 - accuracy: 0.9482\n",
      "Epoch 95/200\n",
      "250/250 [==============================] - 0s 1ms/step - loss: 0.1299 - accuracy: 0.9473\n",
      "Epoch 96/200\n",
      "250/250 [==============================] - 0s 1ms/step - loss: 0.1304 - accuracy: 0.9479\n",
      "Epoch 97/200\n",
      "250/250 [==============================] - 0s 1ms/step - loss: 0.1307 - accuracy: 0.9477\n",
      "Epoch 98/200\n",
      "250/250 [==============================] - 0s 1ms/step - loss: 0.1308 - accuracy: 0.9475\n",
      "Epoch 99/200\n",
      "250/250 [==============================] - 0s 1ms/step - loss: 0.1297 - accuracy: 0.9486\n",
      "Epoch 100/200\n",
      "250/250 [==============================] - 0s 1ms/step - loss: 0.1285 - accuracy: 0.9490\n",
      "Epoch 101/200\n",
      "250/250 [==============================] - 0s 1ms/step - loss: 0.1308 - accuracy: 0.9496\n",
      "Epoch 102/200\n",
      "250/250 [==============================] - 0s 1ms/step - loss: 0.1299 - accuracy: 0.9492\n",
      "Epoch 103/200\n",
      "250/250 [==============================] - 0s 1ms/step - loss: 0.1296 - accuracy: 0.9484\n",
      "Epoch 104/200\n",
      "250/250 [==============================] - 0s 1ms/step - loss: 0.1278 - accuracy: 0.9490\n",
      "Epoch 105/200\n",
      "250/250 [==============================] - 0s 1ms/step - loss: 0.1287 - accuracy: 0.9495\n",
      "Epoch 106/200\n",
      "250/250 [==============================] - 0s 1ms/step - loss: 0.1293 - accuracy: 0.9485\n",
      "Epoch 107/200\n",
      "250/250 [==============================] - 0s 1ms/step - loss: 0.1300 - accuracy: 0.9489\n",
      "Epoch 108/200\n",
      "250/250 [==============================] - 0s 1ms/step - loss: 0.1282 - accuracy: 0.9492\n",
      "Epoch 109/200\n",
      "250/250 [==============================] - 0s 1ms/step - loss: 0.1282 - accuracy: 0.9484\n",
      "Epoch 110/200\n",
      "250/250 [==============================] - 0s 1ms/step - loss: 0.1274 - accuracy: 0.9485\n",
      "Epoch 111/200\n",
      "250/250 [==============================] - 0s 1ms/step - loss: 0.1272 - accuracy: 0.9488\n",
      "Epoch 112/200\n",
      "250/250 [==============================] - 0s 1ms/step - loss: 0.1270 - accuracy: 0.9498\n",
      "Epoch 113/200\n",
      "250/250 [==============================] - 0s 1ms/step - loss: 0.1285 - accuracy: 0.9479\n",
      "Epoch 114/200\n",
      "250/250 [==============================] - 0s 1ms/step - loss: 0.1269 - accuracy: 0.9509\n",
      "Epoch 115/200\n",
      "250/250 [==============================] - 0s 1ms/step - loss: 0.1269 - accuracy: 0.9494\n",
      "Epoch 116/200\n",
      "250/250 [==============================] - 0s 1ms/step - loss: 0.1276 - accuracy: 0.9504\n",
      "Epoch 117/200\n",
      "250/250 [==============================] - 0s 1ms/step - loss: 0.1277 - accuracy: 0.9494\n",
      "Epoch 118/200\n",
      "250/250 [==============================] - 0s 1ms/step - loss: 0.1267 - accuracy: 0.9503\n",
      "Epoch 119/200\n",
      "250/250 [==============================] - 0s 1ms/step - loss: 0.1273 - accuracy: 0.9492\n",
      "Epoch 120/200\n",
      "250/250 [==============================] - 0s 1ms/step - loss: 0.1267 - accuracy: 0.9499\n",
      "Epoch 121/200\n",
      "250/250 [==============================] - 0s 1ms/step - loss: 0.1257 - accuracy: 0.9490\n",
      "Epoch 122/200\n",
      "250/250 [==============================] - 0s 1ms/step - loss: 0.1254 - accuracy: 0.9501\n",
      "Epoch 123/200\n",
      "250/250 [==============================] - 0s 1ms/step - loss: 0.1245 - accuracy: 0.9503\n",
      "Epoch 124/200\n",
      "250/250 [==============================] - 0s 1ms/step - loss: 0.1260 - accuracy: 0.9504\n",
      "Epoch 125/200\n",
      "250/250 [==============================] - 0s 1ms/step - loss: 0.1257 - accuracy: 0.9506\n",
      "Epoch 126/200\n",
      "250/250 [==============================] - 0s 1ms/step - loss: 0.1258 - accuracy: 0.9494\n",
      "Epoch 127/200\n",
      "250/250 [==============================] - 0s 1ms/step - loss: 0.1266 - accuracy: 0.9507\n",
      "Epoch 128/200\n",
      "250/250 [==============================] - 0s 1ms/step - loss: 0.1263 - accuracy: 0.9480\n",
      "Epoch 129/200\n",
      "250/250 [==============================] - 0s 1ms/step - loss: 0.1243 - accuracy: 0.9499\n",
      "Epoch 130/200\n",
      "250/250 [==============================] - 0s 1ms/step - loss: 0.1249 - accuracy: 0.9496\n",
      "Epoch 131/200\n",
      "250/250 [==============================] - 0s 1ms/step - loss: 0.1248 - accuracy: 0.9491\n",
      "Epoch 132/200\n",
      "250/250 [==============================] - 0s 1ms/step - loss: 0.1240 - accuracy: 0.9503\n",
      "Epoch 133/200\n",
      "250/250 [==============================] - 0s 1ms/step - loss: 0.1249 - accuracy: 0.9498\n",
      "Epoch 134/200\n",
      "250/250 [==============================] - 0s 2ms/step - loss: 0.1264 - accuracy: 0.9500\n",
      "Epoch 135/200\n",
      "250/250 [==============================] - 0s 1ms/step - loss: 0.1236 - accuracy: 0.9507\n",
      "Epoch 136/200\n",
      "250/250 [==============================] - 0s 1ms/step - loss: 0.1236 - accuracy: 0.9503\n",
      "Epoch 137/200\n",
      "250/250 [==============================] - 0s 1ms/step - loss: 0.1227 - accuracy: 0.9514\n",
      "Epoch 138/200\n",
      "250/250 [==============================] - 0s 1ms/step - loss: 0.1243 - accuracy: 0.9526\n",
      "Epoch 139/200\n",
      "250/250 [==============================] - 0s 1ms/step - loss: 0.1234 - accuracy: 0.9519\n",
      "Epoch 140/200\n",
      "250/250 [==============================] - 0s 1ms/step - loss: 0.1244 - accuracy: 0.9496\n",
      "Epoch 141/200\n",
      "250/250 [==============================] - 0s 1ms/step - loss: 0.1237 - accuracy: 0.9504\n",
      "Epoch 142/200\n",
      "250/250 [==============================] - 0s 1ms/step - loss: 0.1243 - accuracy: 0.9513\n",
      "Epoch 143/200\n",
      "250/250 [==============================] - 0s 1ms/step - loss: 0.1250 - accuracy: 0.9491\n",
      "Epoch 144/200\n",
      "250/250 [==============================] - 0s 1ms/step - loss: 0.1245 - accuracy: 0.9500\n",
      "Epoch 145/200\n",
      "250/250 [==============================] - 0s 1ms/step - loss: 0.1226 - accuracy: 0.9507\n",
      "Epoch 146/200\n",
      "250/250 [==============================] - 0s 1ms/step - loss: 0.1230 - accuracy: 0.9514\n",
      "Epoch 147/200\n",
      "250/250 [==============================] - 0s 1ms/step - loss: 0.1228 - accuracy: 0.9525\n",
      "Epoch 148/200\n",
      "250/250 [==============================] - 0s 1ms/step - loss: 0.1222 - accuracy: 0.9507\n",
      "Epoch 149/200\n",
      "250/250 [==============================] - 0s 1ms/step - loss: 0.1218 - accuracy: 0.9530\n",
      "Epoch 150/200\n",
      "250/250 [==============================] - 0s 1ms/step - loss: 0.1229 - accuracy: 0.9509\n",
      "Epoch 151/200\n",
      "250/250 [==============================] - 0s 1ms/step - loss: 0.1216 - accuracy: 0.9501\n",
      "Epoch 152/200\n",
      "250/250 [==============================] - 0s 2ms/step - loss: 0.1239 - accuracy: 0.9510\n",
      "Epoch 153/200\n",
      "250/250 [==============================] - 0s 1ms/step - loss: 0.1226 - accuracy: 0.9476\n",
      "Epoch 154/200\n",
      "250/250 [==============================] - 0s 1ms/step - loss: 0.1211 - accuracy: 0.9529\n",
      "Epoch 155/200\n",
      "250/250 [==============================] - 0s 1ms/step - loss: 0.1217 - accuracy: 0.9507\n",
      "Epoch 156/200\n",
      "250/250 [==============================] - 0s 1ms/step - loss: 0.1223 - accuracy: 0.9505\n",
      "Epoch 157/200\n",
      "250/250 [==============================] - 0s 1ms/step - loss: 0.1215 - accuracy: 0.9491\n",
      "Epoch 158/200\n",
      "250/250 [==============================] - 0s 1ms/step - loss: 0.1213 - accuracy: 0.9519\n",
      "Epoch 159/200\n",
      "250/250 [==============================] - 0s 1ms/step - loss: 0.1214 - accuracy: 0.9492\n",
      "Epoch 160/200\n"
     ]
    },
    {
     "name": "stdout",
     "output_type": "stream",
     "text": [
      "250/250 [==============================] - 0s 1ms/step - loss: 0.1223 - accuracy: 0.9501\n",
      "Epoch 161/200\n",
      "250/250 [==============================] - 0s 1ms/step - loss: 0.1222 - accuracy: 0.9498\n",
      "Epoch 162/200\n",
      "250/250 [==============================] - 0s 1ms/step - loss: 0.1215 - accuracy: 0.9506\n",
      "Epoch 163/200\n",
      "250/250 [==============================] - 0s 1ms/step - loss: 0.1195 - accuracy: 0.9511\n",
      "Epoch 164/200\n",
      "250/250 [==============================] - 0s 1ms/step - loss: 0.1211 - accuracy: 0.9515\n",
      "Epoch 165/200\n",
      "250/250 [==============================] - 0s 1ms/step - loss: 0.1226 - accuracy: 0.9494\n",
      "Epoch 166/200\n",
      "250/250 [==============================] - 0s 1ms/step - loss: 0.1201 - accuracy: 0.9517\n",
      "Epoch 167/200\n",
      "250/250 [==============================] - 0s 992us/step - loss: 0.1207 - accuracy: 0.9505\n",
      "Epoch 168/200\n",
      "250/250 [==============================] - 0s 1ms/step - loss: 0.1226 - accuracy: 0.9476\n",
      "Epoch 169/200\n",
      "250/250 [==============================] - 0s 1ms/step - loss: 0.1211 - accuracy: 0.9515\n",
      "Epoch 170/200\n",
      "250/250 [==============================] - 0s 1ms/step - loss: 0.1197 - accuracy: 0.9513\n",
      "Epoch 171/200\n",
      "250/250 [==============================] - 0s 997us/step - loss: 0.1198 - accuracy: 0.9516\n",
      "Epoch 172/200\n",
      "250/250 [==============================] - 0s 1ms/step - loss: 0.1192 - accuracy: 0.9509\n",
      "Epoch 173/200\n",
      "250/250 [==============================] - 0s 1ms/step - loss: 0.1184 - accuracy: 0.9496\n",
      "Epoch 174/200\n",
      "250/250 [==============================] - 0s 1ms/step - loss: 0.1202 - accuracy: 0.9503\n",
      "Epoch 175/200\n",
      "250/250 [==============================] - 0s 1ms/step - loss: 0.1204 - accuracy: 0.9501\n",
      "Epoch 176/200\n",
      "250/250 [==============================] - 0s 1ms/step - loss: 0.1194 - accuracy: 0.9507\n",
      "Epoch 177/200\n",
      "250/250 [==============================] - 0s 988us/step - loss: 0.1198 - accuracy: 0.9514\n",
      "Epoch 178/200\n",
      "250/250 [==============================] - 0s 1ms/step - loss: 0.1193 - accuracy: 0.9526\n",
      "Epoch 179/200\n",
      "250/250 [==============================] - 0s 1ms/step - loss: 0.1194 - accuracy: 0.9517\n",
      "Epoch 180/200\n",
      "250/250 [==============================] - 0s 1ms/step - loss: 0.1187 - accuracy: 0.9519\n",
      "Epoch 181/200\n",
      "250/250 [==============================] - 0s 1ms/step - loss: 0.1197 - accuracy: 0.9491\n",
      "Epoch 182/200\n",
      "250/250 [==============================] - 0s 1ms/step - loss: 0.1195 - accuracy: 0.9509\n",
      "Epoch 183/200\n",
      "250/250 [==============================] - 0s 1ms/step - loss: 0.1189 - accuracy: 0.9520\n"
     ]
    },
    {
     "data": {
      "text/plain": [
       "<tensorflow.python.keras.callbacks.History at 0x1446d0c18>"
      ]
     },
     "execution_count": 274,
     "metadata": {},
     "output_type": "execute_result"
    }
   ],
   "source": [
    "model.fit(X_train, y_train, epochs=200, callbacks=[callback])"
   ]
  },
  {
   "cell_type": "code",
   "execution_count": 275,
   "id": "6b4204cf",
   "metadata": {},
   "outputs": [
    {
     "data": {
      "text/plain": [
       "<AxesSubplot:>"
      ]
     },
     "execution_count": 275,
     "metadata": {},
     "output_type": "execute_result"
    },
    {
     "data": {
      "image/png": "[encoded data removed]",
      "text/plain": [
       "<Figure size 432x288 with 1 Axes>"
      ]
     },
     "metadata": {
      "needs_background": "light"
     },
     "output_type": "display_data"
    }
   ],
   "source": [
    "losses = pd.DataFrame(model.history.history)\n",
    "losses.plot()"
   ]
  },
  {
   "cell_type": "code",
   "execution_count": 277,
   "id": "5eb6d29c",
   "metadata": {},
   "outputs": [
    {
     "data": {
      "text/plain": [
       "array([[0],\n",
       "       [0],\n",
       "       [1],\n",
       "       ...,\n",
       "       [1],\n",
       "       [0],\n",
       "       [1]])"
      ]
     },
     "execution_count": 277,
     "metadata": {},
     "output_type": "execute_result"
    }
   ],
   "source": [
    "preds = model.predict(X_valid)\n",
    "preds\n",
    "preds = preds.round().astype(int)\n",
    "preds"
   ]
  },
  {
   "cell_type": "code",
   "execution_count": 165,
   "id": "7cd420fe",
   "metadata": {},
   "outputs": [
    {
     "name": "stdout",
     "output_type": "stream",
     "text": [
      "[[1098   33]\n",
      " [  54  815]]\n"
     ]
    }
   ],
   "source": [
    "from sklearn.metrics import confusion_matrix, accuracy_score\n",
    "cm = confusion_matrix(y_valid, preds)\n",
    "print(cm)\n",
    "accu = accuracy_score(y_valid, preds)"
   ]
  },
  {
   "cell_type": "code",
   "execution_count": 166,
   "id": "6f419f79",
   "metadata": {},
   "outputs": [
    {
     "name": "stdout",
     "output_type": "stream",
     "text": [
      "Accuracy Score:  0.9565\n"
     ]
    }
   ],
   "source": [
    "print('Accuracy Score: ', accu)"
   ]
  },
  {
   "cell_type": "code",
   "execution_count": 167,
   "id": "137ff06b",
   "metadata": {},
   "outputs": [
    {
     "data": {
      "text/plain": [
       "GaussianNB()"
      ]
     },
     "execution_count": 167,
     "metadata": {},
     "output_type": "execute_result"
    }
   ],
   "source": [
    "from sklearn.naive_bayes import GaussianNB\n",
    "gnb = GaussianNB()\n",
    "gnb.fit(X_train, y_train)"
   ]
  },
  {
   "cell_type": "code",
   "execution_count": 170,
   "id": "1d14078d",
   "metadata": {},
   "outputs": [
    {
     "data": {
      "text/plain": [
       "array([0., 0., 0., ..., 1., 0., 1.])"
      ]
     },
     "execution_count": 170,
     "metadata": {},
     "output_type": "execute_result"
    }
   ],
   "source": [
    "y_pred = gnb.predict(X_valid)"
   ]
  },
  {
   "cell_type": "code",
   "execution_count": 171,
   "id": "9344c769",
   "metadata": {},
   "outputs": [
    {
     "name": "stdout",
     "output_type": "stream",
     "text": [
      "[[1032   99]\n",
      " [ 173  696]]\n"
     ]
    }
   ],
   "source": [
    "cm = confusion_matrix(y_valid, y_pred)\n",
    "print(cm)\n",
    "accu_2 = accuracy_score(y_valid, y_pred)"
   ]
  },
  {
   "cell_type": "code",
   "execution_count": 389,
   "id": "b78ca2fd",
   "metadata": {},
   "outputs": [
    {
     "name": "stdout",
     "output_type": "stream",
     "text": [
      "Accuracy Score:  86.4 %\n"
     ]
    }
   ],
   "source": [
    "print('Accuracy Score: ', accu_2*100, '%')"
   ]
  },
  {
   "cell_type": "code",
   "execution_count": 390,
   "id": "b6f38d1f",
   "metadata": {},
   "outputs": [
    {
     "name": "stdout",
     "output_type": "stream",
     "text": [
      "0.87375\n",
      "0.87\n"
     ]
    }
   ],
   "source": [
    "from sklearn.svm import SVC\n",
    "  \n",
    "# Building a Support Vector Machine on train data\n",
    "svc_model = SVC(C= .1, kernel='linear', gamma= 1)\n",
    "svc_model.fit(X_train, y_train)\n",
    "  \n",
    "prediction = svc_model .predict(X_valid)\n",
    "# check the accuracy on the training set\n",
    "print(svc_model.score(X_train, y_train))\n",
    "print(svc_model.score(X_valid, y_valid))"
   ]
  },
  {
   "cell_type": "code",
   "execution_count": 177,
   "id": "f47eb104",
   "metadata": {},
   "outputs": [
    {
     "name": "stdout",
     "output_type": "stream",
     "text": [
      "Confusion Matrix:\n",
      " [[1038  167]\n",
      " [  93  702]]\n"
     ]
    }
   ],
   "source": [
    "print(\"Confusion Matrix:\\n\",confusion_matrix(prediction,y_valid))\n",
    "accu_3 = accuracy_score(y_valid, prediction)"
   ]
  },
  {
   "cell_type": "code",
   "execution_count": 178,
   "id": "965abbf7",
   "metadata": {},
   "outputs": [
    {
     "name": "stdout",
     "output_type": "stream",
     "text": [
      "Accuracy Score:  0.87\n"
     ]
    }
   ],
   "source": [
    "print('Accuracy Score: ', accu_3)"
   ]
  },
  {
   "cell_type": "code",
   "execution_count": 244,
   "id": "aff6f206",
   "metadata": {},
   "outputs": [
    {
     "data": {
      "text/plain": [
       "KNeighborsClassifier()"
      ]
     },
     "execution_count": 244,
     "metadata": {},
     "output_type": "execute_result"
    }
   ],
   "source": [
    "from sklearn.neighbors import KNeighborsClassifier\n",
    "classifier = KNeighborsClassifier(n_neighbors = 5)\n",
    "classifier.fit(X_train, y_train)"
   ]
  },
  {
   "cell_type": "code",
   "execution_count": 245,
   "id": "90480913",
   "metadata": {},
   "outputs": [],
   "source": [
    "y_pred = classifier.predict(X_valid)"
   ]
  },
  {
   "cell_type": "code",
   "execution_count": 246,
   "id": "9a5b8d06",
   "metadata": {},
   "outputs": [],
   "source": [
    "cm = confusion_matrix(y_valid, y_pred)\n",
    "accu_4 = accuracy_score(y_valid,y_pred)"
   ]
  },
  {
   "cell_type": "code",
   "execution_count": 388,
   "id": "78466846",
   "metadata": {},
   "outputs": [
    {
     "name": "stdout",
     "output_type": "stream",
     "text": [
      "Accuracy Score:  90.85 %\n"
     ]
    },
    {
     "data": {
      "text/plain": [
       "array([[1093,   38],\n",
       "       [ 145,  724]])"
      ]
     },
     "execution_count": 388,
     "metadata": {},
     "output_type": "execute_result"
    }
   ],
   "source": [
    "print('Accuracy Score: ', accu_4*100, '%')\n",
    "cm"
   ]
  },
  {
   "cell_type": "code",
   "execution_count": 364,
   "id": "9082f366",
   "metadata": {},
   "outputs": [
    {
     "data": {
      "text/plain": [
       "RandomForestClassifier(max_depth=15, n_estimators=500)"
      ]
     },
     "execution_count": 364,
     "metadata": {},
     "output_type": "execute_result"
    }
   ],
   "source": [
    "from sklearn.ensemble import RandomForestClassifier\n",
    "regressor = RandomForestClassifier(n_estimators=500, max_depth=15)\n",
    "regressor.fit(X_train, y_train)"
   ]
  },
  {
   "cell_type": "code",
   "execution_count": 365,
   "id": "a0847c42",
   "metadata": {},
   "outputs": [],
   "source": [
    "reg_pred = regressor.predict(X_valid)\n",
    "reg_pred = reg_pred.astype(int)"
   ]
  },
  {
   "cell_type": "code",
   "execution_count": 366,
   "id": "136b2f29",
   "metadata": {},
   "outputs": [],
   "source": [
    "reg_cm = confusion_matrix(y_valid, reg_pred)\n",
    "accu_5 = accuracy_score(y_valid,reg_pred)"
   ]
  },
  {
   "cell_type": "code",
   "execution_count": 367,
   "id": "5eb96047",
   "metadata": {},
   "outputs": [
    {
     "name": "stdout",
     "output_type": "stream",
     "text": [
      "[[1098   33]\n",
      " [  57  812]]\n",
      "0.955\n"
     ]
    }
   ],
   "source": [
    "print(reg_cm)\n",
    "print(accu_5)"
   ]
  },
  {
   "cell_type": "code",
   "execution_count": 363,
   "id": "fccc2e3c",
   "metadata": {},
   "outputs": [
    {
     "data": {
      "text/plain": [
       "Index(['Gender', 'CustomerType', 'Age', 'TypeOfTravel', 'Class',\n",
       "       'FlightDistance', 'InflightWifiService',\n",
       "       'DepartureArrivalTimeConvenient', 'EaseOfOnlineBooking', 'GateLocation',\n",
       "       'FoodAndDrink', 'OnlineBoarding', 'SeatComfort',\n",
       "       'InflightEntertainment', 'OnboardService', 'LegRoomService',\n",
       "       'BaggageHandling', 'CheckinService', 'InflightService', 'Cleanliness',\n",
       "       'DepartureDelayInMinutes', 'satisfaction'],\n",
       "      dtype='object')"
      ]
     },
     "execution_count": 363,
     "metadata": {},
     "output_type": "execute_result"
    }
   ],
   "source": [
    "data.columns"
   ]
  },
  {
   "cell_type": "code",
   "execution_count": 377,
   "id": "0adeb6ac",
   "metadata": {},
   "outputs": [
    {
     "data": {
      "text/plain": [
       "[<matplotlib.lines.Line2D at 0x14671e3c8>]"
      ]
     },
     "execution_count": 377,
     "metadata": {},
     "output_type": "execute_result"
    },
    {
     "data": {
      "image/png": "[encoded data removed]",
      "text/plain": [
       "<Figure size 432x288 with 1 Axes>"
      ]
     },
     "metadata": {
      "needs_background": "light"
     },
     "output_type": "display_data"
    }
   ],
   "source": [
    "plt.plot(y_valid, list(range(0, 2000)))"
   ]
  },
  {
   "cell_type": "code",
   "execution_count": 386,
   "id": "e60e70da",
   "metadata": {},
   "outputs": [
    {
     "data": {
      "text/plain": [
       "0.0    1131\n",
       "1.0     869\n",
       "dtype: int64"
      ]
     },
     "execution_count": 386,
     "metadata": {},
     "output_type": "execute_result"
    }
   ],
   "source": [
    "y_val = pd.Series(y_valid)\n",
    "y_val.value_counts()"
   ]
  },
  {
   "cell_type": "code",
   "execution_count": 387,
   "id": "8926807c",
   "metadata": {},
   "outputs": [
    {
     "data": {
      "text/plain": [
       "1085"
      ]
     },
     "execution_count": 387,
     "metadata": {},
     "output_type": "execute_result"
    }
   ],
   "source": [
    "1131-46"
   ]
  },
  {
   "cell_type": "code",
   "execution_count": null,
   "id": "0ec47785",
   "metadata": {},
   "outputs": [],
   "source": []
  }
 ],
 "metadata": {
  "kernelspec": {
   "display_name": "Python 3 (ipykernel)",
   "language": "python",
   "name": "python3"
  },
  "language_info": {
   "codemirror_mode": {
    "name": "ipython",
    "version": 3
   },
   "file_extension": ".py",
   "mimetype": "text/x-python",
   "name": "python",
   "nbconvert_exporter": "python",
   "pygments_lexer": "ipython3",
   "version": "3.7.3"
  }
 },
 "nbformat": 4,
 "nbformat_minor": 5
}
